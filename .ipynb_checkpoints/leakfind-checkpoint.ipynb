{
 "cells": [
  {
   "cell_type": "markdown",
   "metadata": {},
   "source": [
    "# The purpose is to analyze Fortran code such that every allocation has its corresponding deallocation. Otherwise report the array that potentially gives memory leakage."
   ]
  },
  {
   "cell_type": "code",
   "execution_count": 1,
   "metadata": {},
   "outputs": [],
   "source": [
    "import re\n",
    "import glob"
   ]
  },
  {
   "cell_type": "code",
   "execution_count": 2,
   "metadata": {},
   "outputs": [],
   "source": [
    "def find_alloclist(fname, keyword, exclude=None):\n",
    "    arrlist=[]\n",
    "    with open(fname) as f:\n",
    "        for line in f:\n",
    "            if exclude != None:\n",
    "                p=re.compile(exclude, re.IGNORECASE)\n",
    "                m = p.search(line)\n",
    "                if m:\n",
    "                    continue\n",
    "\n",
    "            p=re.compile(keyword, re.IGNORECASE)\n",
    "            #print(p)\n",
    "            m = p.search(line)\n",
    "            if m:\n",
    "                #print(line, m.end())\n",
    "                for l in re.finditer(\"\\s?\\((.*)\\)?\", line[m.end():], re.IGNORECASE):\n",
    "                    #print(l.group(1))\n",
    "    \n",
    "                    for n in re.finditer(\"([\\w]+)\\s?\\(+.\", l.group(1)):\n",
    "                        #print(n.group(1))\n",
    "                        arrlist.append(str(n.group(1)))\n",
    "    #print(arrlist)\n",
    "    return arrlist\n",
    "                        \n",
    "find_alloclist('allocate.dat', 'allocate','deallocate');"
   ]
  },
  {
   "cell_type": "code",
   "execution_count": 3,
   "metadata": {},
   "outputs": [],
   "source": [
    "def find_dealloclist(fname, keyword):\n",
    "    arrlist=[]\n",
    "    with open(fname) as f:\n",
    "        for line in f:\n",
    "\n",
    "            p=re.compile(keyword, re.IGNORECASE)\n",
    "            #print(p)\n",
    "            m = p.search(line)\n",
    "            if m:\n",
    "                #print(line, m.end())\n",
    "                for l in re.finditer(\"\\(?(\\w+),?\\)?\", line[m.end():], re.IGNORECASE):\n",
    "                    #print(l.group(1))\n",
    "    \n",
    "                    arrlist.append(str(l.group(1)))\n",
    "    #print(arrlist)\n",
    "    return arrlist\n",
    "                        \n",
    "find_dealloclist('allocate.dat', 'deallocate');"
   ]
  },
  {
   "cell_type": "code",
   "execution_count": 4,
   "metadata": {},
   "outputs": [],
   "source": [
    "ffiles=glob.glob(\"*.f\")\n",
    "\n",
    "of=open(\"leak.log\", 'w+')\n",
    "for f in ffiles:\n",
    "    arrleak=[]\n",
    "\n",
    "    alloclist=find_alloclist(f, 'allocate', 'deallocate')\n",
    "    dealloclist=find_dealloclist(f, 'deallocate')\n",
    "    \n",
    "    #print(\"%s\\n\" %(str(f)), file=of)\n",
    "    of.write(\"%s\\n\" %(str(f)))\n",
    "    for arr in alloclist:\n",
    "        if arr not in dealloclist:\n",
    "            of.write(\"%s\\t\" %(str(arr)))\n",
    "    \n",
    "    of.write(\"\\n\\n\")\n",
    "\n",
    "            #print(\"%s\\t\" %(str(arr)), file=of)\n",
    "            #arrleak.append(arr)\n",
    "\n",
    "of.close()"
   ]
  },
  {
   "cell_type": "code",
   "execution_count": 5,
   "metadata": {},
   "outputs": [
    {
     "name": "stdout",
     "output_type": "stream",
     "text": [
      " s0_s(sjl,sjkdlf), b(a))\n",
      "s0_s\n",
      "b\n"
     ]
    }
   ],
   "source": [
    "text=\"allOcate ( s0_s(sjl,sjkdlf), b(a))\"\n",
    "for m in re.finditer(\"allocate\\s?\\((.*)\\)?\", text, re.IGNORECASE):\n",
    "    print(m.group(1))\n",
    "    \n",
    "    for n in re.finditer(\"([\\w]+)\\s?\\([\\w,]+\\)\", m.group(1)):\n",
    "        print(n.group(1))\n",
    "    #for arr in m.group(1):\n",
    "    #    print(arr)"
   ]
  }
 ],
 "metadata": {
  "kernelspec": {
   "display_name": "Python 3",
   "language": "python",
   "name": "python3"
  },
  "language_info": {
   "codemirror_mode": {
    "name": "ipython",
    "version": 3
   },
   "file_extension": ".py",
   "mimetype": "text/x-python",
   "name": "python",
   "nbconvert_exporter": "python",
   "pygments_lexer": "ipython3",
   "version": "3.6.9"
  }
 },
 "nbformat": 4,
 "nbformat_minor": 2
}
